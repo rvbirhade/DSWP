{
 "cells": [
  {
   "cell_type": "code",
   "execution_count": 27,
   "id": "0a7441d6-076f-4f68-b15b-d7f0f2754991",
   "metadata": {},
   "outputs": [
    {
     "name": "stdout",
     "output_type": "stream",
     "text": [
      "Milk25\n",
      "Egg50\n",
      "Bread20\n"
     ]
    }
   ],
   "source": [
    "##3\n",
    "def dis_tiem(items):\n",
    "    for item in items:\n",
    "        print(f\"{item[0]}{item[1]}\")\n",
    "items = [(\"Milk\", 25),(\"Egg\",50),(\"Bread\",20)]\n",
    "dis_tiem(items)"
   ]
  },
  {
   "cell_type": "code",
   "execution_count": 29,
   "id": "3858905d-b9e9-4fcc-a1e8-d12f8582c53f",
   "metadata": {},
   "outputs": [
    {
     "name": "stdout",
     "output_type": "stream",
     "text": [
      "rajdahni:10:00\n",
      "Shatabi:12.30\n",
      "d:u\n",
      "1:7\n"
     ]
    }
   ],
   "source": [
    "##4\n",
    "def dis_shel(trainshel):\n",
    "    for train in trainshel:\n",
    "        print(f\"{train[0]}:{train[1]}\")\n",
    "trainshel =[(\"rajdahni\",\"10:00\"),(\"Shatabi\",\"12.30\"),\"duronoto\",\"17.00\"]\n",
    "dis_shel(trainshel)"
   ]
  },
  {
   "cell_type": "code",
   "execution_count": 31,
   "id": "53ee09ce-d6b2-4ce6-b4ee-9aea23ce66a8",
   "metadata": {},
   "outputs": [
    {
     "name": "stdout",
     "output_type": "stream",
     "text": [
      "Raj: 30000\n",
      "Alice: 50000\n",
      "John: 90000\n"
     ]
    }
   ],
   "source": [
    "##5\n",
    "def sortemp(employees):\n",
    "    employees.sort(key=lambda x:x[1])\n",
    "    for employee in employees:\n",
    "        print(f\"{employee[0]}: {employee[1]}\")\n",
    "employees =[(\"John\",90000),(\"Alice\",50000),(\"Raj\",30000)]\n",
    "\n",
    "sortemp(employees)"
   ]
  },
  {
   "cell_type": "code",
   "execution_count": 33,
   "id": "70d7aebe-7ed8-4288-bc23-b273c62369d8",
   "metadata": {},
   "outputs": [
    {
     "name": "stdout",
     "output_type": "stream",
     "text": [
      "no of students 4\n"
     ]
    }
   ],
   "source": [
    "##6\n",
    "def count(marks):\n",
    "    count = 0\n",
    "    for mark in marks:\n",
    "        if mark>75:\n",
    "            count+=1\n",
    "    print(f\"no of students {count}\")\n",
    "marks=[16,76,78,66,76,57,77]\n",
    "count(marks)"
   ]
  },
  {
   "cell_type": "code",
   "execution_count": 35,
   "id": "a29993b5-2129-4d92-9339-d2d6ec0907b2",
   "metadata": {},
   "outputs": [
    {
     "name": "stdout",
     "output_type": "stream",
     "text": [
      "max 1606.2006\n"
     ]
    }
   ],
   "source": [
    "##7\n",
    "def findmax7(prices):\n",
    "    maxprice = max(prices)\n",
    "    print(f\"max {maxprice}\")\n",
    "prices = (153, 777,166 ,1606.2006)\n",
    "findmax7(prices)"
   ]
  },
  {
   "cell_type": "code",
   "execution_count": 37,
   "id": "cec4ff2c-ddbf-44b1-9336-6b16237bb019",
   "metadata": {},
   "outputs": [
    {
     "name": "stdout",
     "output_type": "stream",
     "text": [
      "average temp is 30.419999999999998\n"
     ]
    }
   ],
   "source": [
    "##8\n",
    "def cal_avg8(temp):\n",
    "    avgtemp = sum(temp)/len(temp)\n",
    "    print(f\"average temp is {avgtemp}\")\n",
    "temp = (29.5,30.0,32.2,31.5,28.9)\n",
    "cal_avg8(temp)"
   ]
  },
  {
   "cell_type": "code",
   "execution_count": 39,
   "id": "bb107798-b28d-4097-bfa2-97d0aebd3a44",
   "metadata": {},
   "outputs": [
    {
     "name": "stdout",
     "output_type": "stream",
     "text": [
      "doctor:10.00am\n",
      "Meeting:2.00pm\n"
     ]
    }
   ],
   "source": [
    "##9\n",
    "def dis_app9(apps):\n",
    "    for app in apps:\n",
    "        print(f\"{app[0]}:{app[1]}\")\n",
    "apps = ((\"doctor\",\"10.00am\"),(\"Meeting\",\"2.00pm\"))\n",
    "dis_app9(apps)"
   ]
  },
  {
   "cell_type": "code",
   "execution_count": 41,
   "id": "129940f7-c6cb-47a6-9dd2-70ff8a4a7e46",
   "metadata": {},
   "outputs": [
    {
     "name": "stdout",
     "output_type": "stream",
     "text": [
      "Anil:98765432100\n",
      "Priya:9234567889\n"
     ]
    }
   ],
   "source": [
    "##10\n",
    "def dis_con(contacts):\n",
    "    for contact in contacts:\n",
    "        print(f\"{contact[0]}:{contact[1]}\")\n",
    "contacts= ((\"Anil\",\"98765432100\"),(\"Priya\",\"9234567889\"))\n",
    "dis_con(contacts)"
   ]
  },
  {
   "cell_type": "code",
   "execution_count": 43,
   "id": "928c2a5d-e964-4f53-af90-5a5ff756f96d",
   "metadata": {},
   "outputs": [
    {
     "name": "stdout",
     "output_type": "stream",
     "text": [
      "maths:9:00am\n",
      "science:1:30pm\n",
      "English:3:00pm\n"
     ]
    }
   ],
   "source": [
    "##11\n",
    "def dis_exam(exams):\n",
    "    for exam in exams:\n",
    "        print(f\"{exam[0]}:{exam[1]}\")\n",
    "exams = ((\"maths\",\"9:00am\"),(\"science\",\"1:30pm\"),(\"English\",\"3:00pm\"))\n",
    "dis_exam(exams)"
   ]
  }
 ],
 "metadata": {
  "kernelspec": {
   "display_name": "Python [conda env:base] *",
   "language": "python",
   "name": "conda-base-py"
  },
  "language_info": {
   "codemirror_mode": {
    "name": "ipython",
    "version": 3
   },
   "file_extension": ".py",
   "mimetype": "text/x-python",
   "name": "python",
   "nbconvert_exporter": "python",
   "pygments_lexer": "ipython3",
   "version": "3.12.7"
  }
 },
 "nbformat": 4,
 "nbformat_minor": 5
}
