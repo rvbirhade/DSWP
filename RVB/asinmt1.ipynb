{
 "cells": [
  {
   "cell_type": "code",
   "execution_count": 19,
   "id": "477a2caa-2455-48cd-a657-8ddec071714b",
   "metadata": {},
   "outputs": [
    {
     "name": "stdout",
     "output_type": "stream",
     "text": [
      "(num1) is Even\n",
      "(num2) is Odd\n"
     ]
    }
   ],
   "source": [
    "##1\n",
    "def check_odd_even(num):\n",
    "    if num % 2 ==0:\n",
    "        return \"Even\"\n",
    "    else:\n",
    "        return\"Odd\"\n",
    "num1=10\n",
    "num2=37\n",
    "print(f\"(num1) is {check_odd_even(num1)}\")\n",
    "print(f\"(num2) is {check_odd_even(num2)}\")"
   ]
  },
  {
   "cell_type": "code",
   "execution_count": 25,
   "id": "5ce8b7e6-b288-4c73-932f-52eb4cfd41e7",
   "metadata": {},
   "outputs": [
    {
     "name": "stdout",
     "output_type": "stream",
     "text": [
      "the number of digit on 12345678 is : 8\n",
      "the number of digit on 2658 is : 4\n"
     ]
    }
   ],
   "source": [
    "##2\n",
    "def count_digits(number):\n",
    "    return len(str(abs(number)))\n",
    "number=12345678\n",
    "digit_count=count_digits(number)\n",
    "print(f\"the number of digit on {number} is : {digit_count}\")\n",
    "\n",
    "number=2658\n",
    "digit_count=count_digits(number)\n",
    "print(f\"the number of digit on {number} is : {digit_count}\")\n",
    "    "
   ]
  },
  {
   "cell_type": "code",
   "execution_count": 27,
   "id": "70397293-3217-4ccf-9123-0f8e384388ea",
   "metadata": {},
   "outputs": [
    {
     "name": "stdin",
     "output_type": "stream",
     "text": [
      "Enter num = 111\n"
     ]
    },
    {
     "name": "stdout",
     "output_type": "stream",
     "text": [
      "111 is palindrome\n"
     ]
    }
   ],
   "source": [
    "##7\n",
    "def is_palindrome(num):\n",
    "    return str(num) == str(num)[::1]\n",
    "\n",
    "num = int(input(\"Enter num =\"))\n",
    "if is_palindrome(num):\n",
    "    print(f\"{num} is palindrome\")\n",
    "\n",
    "else :\n",
    "    print(\"not a plaindrome\")"
   ]
  },
  {
   "cell_type": "code",
   "execution_count": 29,
   "id": "60db20fc-ed4f-44b9-98ea-9e25857cfe48",
   "metadata": {},
   "outputs": [
    {
     "name": "stdin",
     "output_type": "stream",
     "text": [
      "Enter n = 264\n"
     ]
    },
    {
     "name": "stdout",
     "output_type": "stream",
     "text": [
      "264 is not armstrong\n"
     ]
    }
   ],
   "source": [
    "##8\n",
    "def is_armstrong(num):\n",
    "    num_str = str(num)\n",
    "    n = len(num_str)\n",
    "    sum = 0\n",
    "    for digit in num_str:\n",
    "        sum +=int(digit) ** n\n",
    "    return num == sum\n",
    "num = int(input(\"Enter n =\"))\n",
    "if is_armstrong(num):print(f\"{num} is armstrong\")\n",
    "\n",
    "else: print (f\"{num} is not armstrong\")"
   ]
  },
  {
   "cell_type": "code",
   "execution_count": 31,
   "id": "ff442fc8-098f-4b26-8136-716afc759baa",
   "metadata": {},
   "outputs": [
    {
     "name": "stdout",
     "output_type": "stream",
     "text": [
      "Enter num1, num2, num3\n"
     ]
    },
    {
     "name": "stdin",
     "output_type": "stream",
     "text": [
      "enter first num 16\n",
      "enter second num 6\n",
      "enter third num 7\n"
     ]
    },
    {
     "name": "stdout",
     "output_type": "stream",
     "text": [
      "16 is max\n"
     ]
    }
   ],
   "source": [
    "##8\n",
    "def is_max(num1, num2, num3):\n",
    "    return max(num1,num2,num3)\n",
    "\n",
    "print(\"Enter num1, num2, num3\")\n",
    "n1 = int(input(\"enter first num\"))\n",
    "n2 = int(input(\"enter second num\"))\n",
    "n3 = int(input(\"enter third num\"))\n",
    "maximum = is_max(n1,n2,n3)\n",
    "print(f\"{maximum} is max\")"
   ]
  },
  {
   "cell_type": "code",
   "execution_count": 48,
   "id": "e89a81d9-de37-44e7-8854-eea3660d621c",
   "metadata": {},
   "outputs": [
    {
     "name": "stdin",
     "output_type": "stream",
     "text": [
      "Eter num == 777\n"
     ]
    },
    {
     "name": "stdout",
     "output_type": "stream",
     "text": [
      "21 is the sum \n"
     ]
    }
   ],
   "source": [
    "##9\n",
    "def sum_of_digit(num):\n",
    "    sum_of_digit=0\n",
    "    for digit in str(abs(num)):\n",
    "        sum_of_digit+=int(digit)\n",
    "    return sum_of_digit\n",
    "\n",
    "n = int(input(\"Eter num ==\"))\n",
    "sum = sum_of_digit(n)\n",
    "print(f\"{sum} is the sum \")"
   ]
  },
  {
   "cell_type": "code",
   "execution_count": 35,
   "id": "4d558af0-dffa-437e-84bd-3694b9d0e628",
   "metadata": {},
   "outputs": [
    {
     "name": "stdin",
     "output_type": "stream",
     "text": [
      "enter n 6\n"
     ]
    },
    {
     "name": "stdout",
     "output_type": "stream",
     "text": [
      "1 = 1\n",
      "1+2 = 3\n",
      "1+2+3 = 6\n",
      "1+2+3+4 = 10\n",
      "1+2+3+4+5 = 15\n",
      "1+2+3+4+5+6 = 21\n"
     ]
    }
   ],
   "source": [
    "##10\n",
    "def pat(n):\n",
    "    current_sum=0;\n",
    "    for i in range(1,n+1):\n",
    "        current_sum +=i\n",
    "        pat = \"\"\n",
    "        for j in range(1,i+1):\n",
    "            pat+=str(j)\n",
    "            if j<i:\n",
    "                pat+=\"+\"\n",
    "        print(f\"{pat} = {current_sum}\")\n",
    "\n",
    "g= int(input(\"enter n\"))\n",
    "pat(g)"
   ]
  },
  {
   "cell_type": "code",
   "execution_count": 52,
   "id": "a9343bf8-7550-4c48-8b9f-98fdb291fa4c",
   "metadata": {},
   "outputs": [
    {
     "name": "stdin",
     "output_type": "stream",
     "text": [
      "enter the value of n 6\n"
     ]
    },
    {
     "name": "stdout",
     "output_type": "stream",
     "text": [
      "654321\n",
      "54321\n",
      "4321\n",
      "321\n",
      "21\n",
      "1\n",
      "None\n"
     ]
    }
   ],
   "source": [
    "##3\n",
    "def print_pyrmd(n):\n",
    "    for i in range(n,0,-1):\n",
    "        for j in range(i, 0,-1):\n",
    "            print(j,end=\"\")\n",
    "        print()\n",
    "\n",
    "n =int(input(\"enter the value of n\"))\n",
    "result = print_pyrmd(n)\n",
    "print(result)"
   ]
  },
  {
   "cell_type": "code",
   "execution_count": 56,
   "id": "a82881f8-520e-4dcd-a708-a0f763b30ff9",
   "metadata": {},
   "outputs": [
    {
     "name": "stdin",
     "output_type": "stream",
     "text": [
      "enter the number 7\n",
      "entrt the number to sopt 16\n"
     ]
    },
    {
     "name": "stdout",
     "output_type": "stream",
     "text": [
      "prime number:\n",
      "7\n",
      "11\n",
      "13\n"
     ]
    }
   ],
   "source": [
    "##4\n",
    "def print_P(start, end):\n",
    "    for num in range(start,end+1):\n",
    "        if num > 1:\n",
    "            is_prime = True\n",
    "            for i in range(2,int(num**0.5)+1):\n",
    "                 if num%i == 0:\n",
    "                     is_prime = False\n",
    "                     break\n",
    "            if is_prime:\n",
    "                print(num)\n",
    "                \n",
    "start = int(input(\"enter the number\"))\n",
    "end = int(input(\"entrt the number to sopt\"))            \n",
    "print(\"prime number:\")\n",
    "print_P(start,end)"
   ]
  },
  {
   "cell_type": "code",
   "execution_count": 58,
   "id": "85ba25bc-153f-4aa4-9809-a82807fd11a7",
   "metadata": {},
   "outputs": [
    {
     "name": "stdin",
     "output_type": "stream",
     "text": [
      "enter the numbr 16\n"
     ]
    },
    {
     "name": "stdout",
     "output_type": "stream",
     "text": [
      "factorial of the 16 is :20922789888000\n"
     ]
    }
   ],
   "source": [
    "##5\n",
    "def fact(n):\n",
    "    result = 1\n",
    "    for i in range(1,n+1):\n",
    "        result *= i\n",
    "    return result\n",
    "\n",
    "num = int(input(\"enter the numbr\"))\n",
    "result = fact(num)\n",
    "print(f\"factorial of the {num} is :{result}\" )"
   ]
  },
  {
   "cell_type": "code",
   "execution_count": null,
   "id": "90885026-986b-4a52-982f-64b3b4d297fc",
   "metadata": {},
   "outputs": [],
   "source": []
  }
 ],
 "metadata": {
  "kernelspec": {
   "display_name": "Python [conda env:base] *",
   "language": "python",
   "name": "conda-base-py"
  },
  "language_info": {
   "codemirror_mode": {
    "name": "ipython",
    "version": 3
   },
   "file_extension": ".py",
   "mimetype": "text/x-python",
   "name": "python",
   "nbconvert_exporter": "python",
   "pygments_lexer": "ipython3",
   "version": "3.12.7"
  }
 },
 "nbformat": 4,
 "nbformat_minor": 5
}
