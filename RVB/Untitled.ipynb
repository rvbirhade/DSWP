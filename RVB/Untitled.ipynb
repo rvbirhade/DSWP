{
 "cells": [
  {
   "cell_type": "code",
   "execution_count": 5,
   "id": "0a7441d6-076f-4f68-b15b-d7f0f2754991",
   "metadata": {},
   "outputs": [
    {
     "name": "stdout",
     "output_type": "stream",
     "text": [
      "milk34\n",
      "eggs46\n",
      "breads67\n"
     ]
    }
   ],
   "source": [
    "def dis_tiem(items):\n",
    "    for item in items:\n",
    "        print(f\"{item[0]}{item[1]}\")\n",
    "items = [(\"milk\", 34),(\"eggs\",46),(\"breads\",67)]\n",
    "dis_tiem(items)"
   ]
  },
  {
   "cell_type": "code",
   "execution_count": null,
   "id": "8b92894e-9b02-4881-a087-5ede707cdde6",
   "metadata": {},
   "outputs": [],
   "source": []
  }
 ],
 "metadata": {
  "kernelspec": {
   "display_name": "Python [conda env:base] *",
   "language": "python",
   "name": "conda-base-py"
  },
  "language_info": {
   "codemirror_mode": {
    "name": "ipython",
    "version": 3
   },
   "file_extension": ".py",
   "mimetype": "text/x-python",
   "name": "python",
   "nbconvert_exporter": "python",
   "pygments_lexer": "ipython3",
   "version": "3.12.7"
  }
 },
 "nbformat": 4,
 "nbformat_minor": 5
}
