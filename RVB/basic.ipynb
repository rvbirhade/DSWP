{
 "cells": [
  {
   "cell_type": "code",
   "execution_count": 4,
   "id": "c6e5614b-5c26-4a48-a89f-06153b92308d",
   "metadata": {},
   "outputs": [
    {
     "data": {
      "text/plain": [
       "int"
      ]
     },
     "execution_count": 4,
     "metadata": {},
     "output_type": "execute_result"
    }
   ],
   "source": [
    "type(1)"
   ]
  },
  {
   "cell_type": "code",
   "execution_count": 5,
   "id": "7b6659c0-991e-490d-8410-4ae28cfef0a0",
   "metadata": {},
   "outputs": [
    {
     "data": {
      "text/plain": [
       "str"
      ]
     },
     "execution_count": 5,
     "metadata": {},
     "output_type": "execute_result"
    }
   ],
   "source": [
    "type(\"Hello\")"
   ]
  },
  {
   "cell_type": "code",
   "execution_count": 6,
   "id": "244fd377-7bb5-4699-b60b-b38506c1cf6b",
   "metadata": {},
   "outputs": [
    {
     "data": {
      "text/plain": [
       "bool"
      ]
     },
     "execution_count": 6,
     "metadata": {},
     "output_type": "execute_result"
    }
   ],
   "source": [
    "type(True)"
   ]
  },
  {
   "cell_type": "code",
   "execution_count": 7,
   "id": "5fb5ca48-2b95-4c8d-9b99-dc0ee227738b",
   "metadata": {},
   "outputs": [
    {
     "data": {
      "text/plain": [
       "float"
      ]
     },
     "execution_count": 7,
     "metadata": {},
     "output_type": "execute_result"
    }
   ],
   "source": [
    "type(1.0)"
   ]
  },
  {
   "cell_type": "markdown",
   "id": "8c60c056-a6aa-4cd1-a76e-9482f541d2f9",
   "metadata": {},
   "source": [
    "- Strings"
   ]
  },
  {
   "cell_type": "code",
   "execution_count": 8,
   "id": "b776a1a3-fdba-4b92-8ba3-c82c7bb75afb",
   "metadata": {},
   "outputs": [
    {
     "data": {
      "text/plain": [
       "'hello'"
      ]
     },
     "execution_count": 8,
     "metadata": {},
     "output_type": "execute_result"
    }
   ],
   "source": [
    "\"hello\""
   ]
  },
  {
   "cell_type": "code",
   "execution_count": 9,
   "id": "5191fbc2-93f7-4d68-8312-1e9ec5e2b362",
   "metadata": {},
   "outputs": [
    {
     "data": {
      "text/plain": [
       "'hello'"
      ]
     },
     "execution_count": 9,
     "metadata": {},
     "output_type": "execute_result"
    }
   ],
   "source": [
    "'hello'"
   ]
  },
  {
   "cell_type": "code",
   "execution_count": 10,
   "id": "35d2730b-6008-4252-b938-7fd9308708ba",
   "metadata": {},
   "outputs": [
    {
     "data": {
      "text/plain": [
       "str"
      ]
     },
     "execution_count": 10,
     "metadata": {},
     "output_type": "execute_result"
    }
   ],
   "source": [
    "type(\"Hello\")"
   ]
  },
  {
   "cell_type": "code",
   "execution_count": 11,
   "id": "1e31c992-d4d5-4cf7-901e-98b1da673c77",
   "metadata": {},
   "outputs": [
    {
     "data": {
      "text/plain": [
       "str"
      ]
     },
     "execution_count": 11,
     "metadata": {},
     "output_type": "execute_result"
    }
   ],
   "source": [
    "type('Hello')"
   ]
  },
  {
   "cell_type": "code",
   "execution_count": 12,
   "id": "1c78244b-cf83-43b8-86f5-849842aec307",
   "metadata": {},
   "outputs": [],
   "source": [
    "# var name = value"
   ]
  },
  {
   "cell_type": "code",
   "execution_count": 13,
   "id": "4903d758-cff7-4f80-900a-6f38075ea53d",
   "metadata": {},
   "outputs": [],
   "source": [
    "a = 10"
   ]
  },
  {
   "cell_type": "code",
   "execution_count": 14,
   "id": "d4565b1c-0a62-4b6f-93f5-711581aae347",
   "metadata": {},
   "outputs": [
    {
     "data": {
      "text/plain": [
       "int"
      ]
     },
     "execution_count": 14,
     "metadata": {},
     "output_type": "execute_result"
    }
   ],
   "source": [
    "type(a)"
   ]
  },
  {
   "cell_type": "code",
   "execution_count": 15,
   "id": "87d8a366-12fc-42b3-bb8c-6b65a49142cc",
   "metadata": {},
   "outputs": [],
   "source": [
    "a = \"MDL\""
   ]
  },
  {
   "cell_type": "code",
   "execution_count": 16,
   "id": "22d5e468-ea5d-44ee-a6e3-3a3f3eb157a7",
   "metadata": {},
   "outputs": [
    {
     "data": {
      "text/plain": [
       "str"
      ]
     },
     "execution_count": 16,
     "metadata": {},
     "output_type": "execute_result"
    }
   ],
   "source": [
    "type(a)"
   ]
  },
  {
   "cell_type": "code",
   "execution_count": 18,
   "id": "72b21dbe-2918-4722-aca8-effacf5c7d8f",
   "metadata": {},
   "outputs": [],
   "source": [
    "a= 10\n",
    "b = 20"
   ]
  },
  {
   "cell_type": "code",
   "execution_count": 20,
   "id": "8fbf34ab-5bc5-45d6-834b-30efa7745671",
   "metadata": {},
   "outputs": [
    {
     "name": "stdout",
     "output_type": "stream",
     "text": [
      "30\n",
      "200\n",
      "0\n",
      "200.5\n"
     ]
    }
   ],
   "source": [
    "print(a + b)\n",
    "print(a*b)\n",
    "print(b%a)\n",
    "print((a*b)+(a/b))"
   ]
  },
  {
   "cell_type": "code",
   "execution_count": 26,
   "id": "01366cfe-bb47-4ae8-a28e-86cf92a8e4bc",
   "metadata": {},
   "outputs": [
    {
     "name": "stdout",
     "output_type": "stream",
     "text": [
      "SSM\n"
     ]
    }
   ],
   "source": [
    "s = \"SSM\"\n",
    "print(s)\n"
   ]
  },
  {
   "cell_type": "code",
   "execution_count": 2,
   "id": "cee988a4-f448-497f-8f8a-7e0d344ec53e",
   "metadata": {},
   "outputs": [
    {
     "name": "stdout",
     "output_type": "stream",
     "text": [
      "Ram is 25 Lonere\n"
     ]
    }
   ],
   "source": [
    "s = \"Ram is\"\n",
    "age = 25\n",
    "city = \"Lonere\"\n",
    "print(s, age, city)"
   ]
  },
  {
   "cell_type": "code",
   "execution_count": 22,
   "id": "91968ab9-dfda-47cd-a509-da2ebf1dfc9b",
   "metadata": {},
   "outputs": [
    {
     "name": "stdout",
     "output_type": "stream",
     "text": [
      "MDL\n"
     ]
    }
   ],
   "source": [
    "print('MDL')"
   ]
  },
  {
   "cell_type": "code",
   "execution_count": 12,
   "id": "d708fc2c-ea1d-40e3-934b-6436ff9df087",
   "metadata": {},
   "outputs": [],
   "source": [
    "first_name = 'sahil'\n",
    "last_name = 'mali'"
   ]
  },
  {
   "cell_type": "code",
   "execution_count": 14,
   "id": "f476e860-b19b-4bd7-a354-1b15df152f92",
   "metadata": {},
   "outputs": [
    {
     "name": "stdout",
     "output_type": "stream",
     "text": [
      "My first name is sahil and Last name is mali\n"
     ]
    }
   ],
   "source": [
    "print(\"My first name is {} and Last name is {}\".format(first_name,last_name))"
   ]
  },
  {
   "cell_type": "code",
   "execution_count": 16,
   "id": "b7d3453d-7815-46b4-b9f0-5823111a731e",
   "metadata": {},
   "outputs": [
    {
     "name": "stdout",
     "output_type": "stream",
     "text": [
      "My first name is mali and Last name is sahil\n"
     ]
    }
   ],
   "source": [
    "print(\"My first name is {} and Last name is {}\".format(last_name,first_name))"
   ]
  },
  {
   "cell_type": "code",
   "execution_count": 18,
   "id": "3adf6d65-6d4d-49ad-b753-f8b02aa43b67",
   "metadata": {},
   "outputs": [
    {
     "name": "stdout",
     "output_type": "stream",
     "text": [
      "My first name is sahil and Last name is mali\n"
     ]
    }
   ],
   "source": [
    "print(\"My first name is {first} and Last name is {last}\".format(first = first_name, last = last_name))"
   ]
  },
  {
   "cell_type": "code",
   "execution_count": 20,
   "id": "24116480-27aa-45a7-9270-052fd52c1fb4",
   "metadata": {},
   "outputs": [
    {
     "name": "stdout",
     "output_type": "stream",
     "text": [
      "My first name is sahil and Last name is mali\n"
     ]
    }
   ],
   "source": [
    "print(\"My first name is {first} and Last name is {last}\".format(last = last_name, first = first_name))"
   ]
  },
  {
   "cell_type": "code",
   "execution_count": 22,
   "id": "880bca89-fa24-404f-a1cc-adbb8e741520",
   "metadata": {},
   "outputs": [
    {
     "name": "stdout",
     "output_type": "stream",
     "text": [
      "Python@programming\n"
     ]
    }
   ],
   "source": [
    "print(\"Python\", end='@')\n",
    "print(\"programming\")"
   ]
  },
  {
   "cell_type": "code",
   "execution_count": 30,
   "id": "f847e2cb-e05b-4461-a993-d9621a621804",
   "metadata": {},
   "outputs": [
    {
     "name": "stdout",
     "output_type": "stream",
     "text": [
      "sahil@dbatu.ac.in\n"
     ]
    }
   ],
   "source": [
    "print('sahil', 'dbatu.ac.in', sep='@')"
   ]
  },
  {
   "cell_type": "code",
   "execution_count": 6,
   "id": "7dc36a3d-fa28-4fb0-8e9a-3c056bc13120",
   "metadata": {},
   "outputs": [
    {
     "name": "stdout",
     "output_type": "stream",
     "text": [
      "GFG\n"
     ]
    }
   ],
   "source": [
    "print('G', 'F', 'G', sep='')"
   ]
  },
  {
   "cell_type": "code",
   "execution_count": 7,
   "id": "0a98d4ed-acba-457f-870c-a1cd52325b43",
   "metadata": {},
   "outputs": [
    {
     "name": "stdout",
     "output_type": "stream",
     "text": [
      "09-12-2016\n"
     ]
    }
   ],
   "source": [
    "print('09', '02', '2025', sep='-')"
   ]
  },
  {
   "cell_type": "code",
   "execution_count": 28,
   "id": "e9c10016-f097-45af-bfbd-af02ee35a976",
   "metadata": {},
   "outputs": [
    {
     "name": "stdout",
     "output_type": "stream",
     "text": [
      "Hello, My name is sahil and I'm 23 years old.\n"
     ]
    }
   ],
   "source": [
    "name = 'sahil'\n",
    "age = 23\n",
    "print(f\"Hello, My name is {name} and I'm {age} years old.\")"
   ]
  },
  {
   "cell_type": "code",
   "execution_count": 10,
   "id": "be6a6417-95c5-4ddd-a92e-f73b8fc5368b",
   "metadata": {},
   "outputs": [
    {
     "name": "stdin",
     "output_type": "stream",
     "text": [
      "Enter a value:  5\n"
     ]
    },
    {
     "name": "stdout",
     "output_type": "stream",
     "text": [
      "The sum is 10\n"
     ]
    }
   ],
   "source": [
    "num = int(input(\"Enter a value: \"))\n",
    "\n",
    "add = num + 5\n",
    "\n",
    "print(\"The sum is %d\" %add)"
   ]
  },
  {
   "cell_type": "code",
   "execution_count": null,
   "id": "485b9e12-ada1-4bdf-b365-94285621f99d",
   "metadata": {},
   "outputs": [],
   "source": [
    "x, y = input(\"Enter two values: \").split()\n",
    "print(\"Number of boys: \", x)\n",
    "print(\"Number of girls: \", y)"
   ]
  },
  {
   "cell_type": "code",
   "execution_count": 2,
   "id": "e55eaa3d-7a77-4a17-8eea-16cd7513f989",
   "metadata": {},
   "outputs": [
    {
     "name": "stdin",
     "output_type": "stream",
     "text": [
      "Enter three values:  60  30  30\n"
     ]
    },
    {
     "name": "stdout",
     "output_type": "stream",
     "text": [
      "Total number of students:  60\n",
      "Number of boys is :  30\n",
      "Number of girls is :  30\n"
     ]
    }
   ],
   "source": [
    "x, y, z = input(\"Enter three values: \").split()\n",
    "print(\"Total number of students: \", x)\n",
    "print(\"Number of boys is : \", y)\n",
    "print(\"Number of girls is : \", z)"
   ]
  },
  {
   "cell_type": "code",
   "execution_count": 8,
   "id": "137b4f41-3b91-4d73-b94a-27f6336e999b",
   "metadata": {},
   "outputs": [
    {
     "name": "stdin",
     "output_type": "stream",
     "text": [
      "Enter your age:  66\n"
     ]
    },
    {
     "name": "stdout",
     "output_type": "stream",
     "text": [
      "You are a senior citizen.\n"
     ]
    }
   ],
   "source": [
    "age_input = input(\"Enter your age: \")\n",
    "\n",
    "age = int(age_input)\n",
    "\n",
    "if age < 0:\n",
    "    print(\"Please enter a valid age.\")\n",
    "elif age < 18:\n",
    "    print(\"You are a minor.\")\n",
    "elif age >= 18 and age < 65:\n",
    "    print(\"You are an adult.\")\n",
    "else:\n",
    "    print(\"You are a senior citizen.\")"
   ]
  },
  {
   "cell_type": "code",
   "execution_count": 32,
   "id": "72e9da54-e10b-4884-b4b0-668d1f38a770",
   "metadata": {},
   "outputs": [
    {
     "name": "stdin",
     "output_type": "stream",
     "text": [
      "Enter your name:  sahil\n"
     ]
    },
    {
     "name": "stdout",
     "output_type": "stream",
     "text": [
      "Hello, sahil ! Welcome!\n"
     ]
    }
   ],
   "source": [
    "name = input(\"Enter your name: \")\n",
    "print(\"Hello,\", name, \"! Welcome!\")"
   ]
  },
  {
   "cell_type": "code",
   "execution_count": 10,
   "id": "b54c664a-7d41-4e04-8af6-0c9b7cd09e44",
   "metadata": {},
   "outputs": [
    {
     "name": "stdin",
     "output_type": "stream",
     "text": [
      "What color is rose?:  pink\n"
     ]
    },
    {
     "name": "stdout",
     "output_type": "stream",
     "text": [
      "pink\n"
     ]
    }
   ],
   "source": [
    "color = input(\"What color is rose?: \")\n",
    "print(color)"
   ]
  },
  {
   "cell_type": "code",
   "execution_count": 11,
   "id": "389e2786-2d6d-4def-8e66-5b7239cbf61e",
   "metadata": {},
   "outputs": [
    {
     "name": "stdin",
     "output_type": "stream",
     "text": [
      "How many roses?:  5\n"
     ]
    },
    {
     "name": "stdout",
     "output_type": "stream",
     "text": [
      "5\n"
     ]
    }
   ],
   "source": [
    "n = int(input(\"How many roses?: \"))\n",
    "print(n)"
   ]
  },
  {
   "cell_type": "code",
   "execution_count": 12,
   "id": "fcfd4220-378a-4312-a4cf-f4a1761eca3c",
   "metadata": {},
   "outputs": [
    {
     "name": "stdin",
     "output_type": "stream",
     "text": [
      "Price of each rose?:  23.50\n"
     ]
    },
    {
     "name": "stdout",
     "output_type": "stream",
     "text": [
      "23.5\n"
     ]
    }
   ],
   "source": [
    "price = float(input(\"Price of each rose?: \"))\n",
    "print(price)"
   ]
  },
  {
   "cell_type": "code",
   "execution_count": 1,
   "id": "132e48ef-eccb-40b5-9846-8c33bd4cded1",
   "metadata": {},
   "outputs": [
    {
     "name": "stdout",
     "output_type": "stream",
     "text": [
      "The history saving thread hit an unexpected error (OperationalError('attempt to write a readonly database')).History will not be written to the database.\n",
      "<class 'str'>\n",
      "<class 'int'>\n",
      "<class 'float'>\n",
      "<class 'tuple'>\n",
      "<class 'list'>\n",
      "<class 'dict'>\n"
     ]
    }
   ],
   "source": [
    "a = \"Hello World\"\n",
    "b = 10\n",
    "c = 11.22\n",
    "d = (\"Computers\", \"for\", \"students\")\n",
    "e = [\"Computers\", \"for\", \"students\"]\n",
    "f = {\"Computers\": 1, \"for\":2, \"students\":3}\n",
    "\n",
    "\n",
    "print(type(a))\n",
    "print(type(b))\n",
    "print(type(c))\n",
    "print(type(d))\n",
    "print(type(e))\n",
    "print(type(f))"
   ]
  }
 ],
 "metadata": {
  "kernelspec": {
   "display_name": "Python [conda env:base] *",
   "language": "python",
   "name": "conda-base-py"
  },
  "language_info": {
   "codemirror_mode": {
    "name": "ipython",
    "version": 3
   },
   "file_extension": ".py",
   "mimetype": "text/x-python",
   "name": "python",
   "nbconvert_exporter": "python",
   "pygments_lexer": "ipython3",
   "version": "3.12.7"
  }
 },
 "nbformat": 4,
 "nbformat_minor": 5
}
