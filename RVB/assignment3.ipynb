{
 "cells": [
  {
   "cell_type": "code",
   "execution_count": 3,
   "id": "e73b7812-6ddd-44ee-b3b6-5e9f4d8f45fe",
   "metadata": {},
   "outputs": [
    {
     "name": "stdout",
     "output_type": "stream",
     "text": [
      "BMW\n"
     ]
    }
   ],
   "source": [
    "thisdict =  {\n",
    "    \"brand\":\"BMW\",\n",
    "    \"model\":\"ROLSE ROYSE\",\n",
    "    \"year\":1964\n",
    "}\n",
    "print(thisdict[\"brand\"])"
   ]
  },
  {
   "cell_type": "code",
   "execution_count": 5,
   "id": "e8d5b8d0-7ce9-4f52-b582-92570db404ed",
   "metadata": {},
   "outputs": [
    {
     "name": "stdout",
     "output_type": "stream",
     "text": [
      "BMW\n"
     ]
    }
   ],
   "source": [
    "thisdict =  {\n",
    "    \"brand\":\"BMW\",\n",
    "    \"model\":\"ROLSE ROYSE\",\n",
    "    \"year\":1964\n",
    "}\n",
    "print(thisdict[\"brand\"])"
   ]
  },
  {
   "cell_type": "code",
   "execution_count": 7,
   "id": "e672a7a3-db3d-4dbc-a68d-6c65235a9c5f",
   "metadata": {},
   "outputs": [
    {
     "name": "stdout",
     "output_type": "stream",
     "text": [
      "{'brand': 'BMW', 'model': 'ROLSE ROYSE', 'year': 1964}\n"
     ]
    }
   ],
   "source": [
    "this = {\n",
    "    \"brand\":\"BMW\",\n",
    "    \"model\":\"ROLSE ROYSE\",\n",
    "    \"year\":1964,\n",
    "    \"year\":2020\n",
    "}\n",
    "print(thisdict)"
   ]
  },
  {
   "cell_type": "code",
   "execution_count": 9,
   "id": "20632f6d-75e4-44a6-996d-a25dbfe07e1e",
   "metadata": {},
   "outputs": [
    {
     "name": "stdout",
     "output_type": "stream",
     "text": [
      "<class 'dict'>\n"
     ]
    }
   ],
   "source": [
    "thisdict = { \n",
    "    \"brand\":\"Ford\",\n",
    "    \"electric\":False,\n",
    "    \"year\":1964,\n",
    "    \"colors\":[\"red\",\"white\",\"blue\"]\n",
    "}\n",
    "print(type(thisdict))"
   ]
  },
  {
   "cell_type": "code",
   "execution_count": 11,
   "id": "0632ce46-94e3-4270-9cd8-2bc7dba289a5",
   "metadata": {},
   "outputs": [
    {
     "name": "stdout",
     "output_type": "stream",
     "text": [
      "{'name': 'Smith', 'age': 36, 'country': 'New york'}\n"
     ]
    }
   ],
   "source": [
    "thisdict = dict(name = \"Smith\",age=36,country=\"New york\")\n",
    "print(thisdict)"
   ]
  },
  {
   "cell_type": "code",
   "execution_count": 13,
   "id": "4684faa3-e592-495e-a7c4-7cbbb703745e",
   "metadata": {},
   "outputs": [
    {
     "name": "stdout",
     "output_type": "stream",
     "text": [
      "{'brand': 'BMW', 'model': 'ROLLSE ROYSE', 'year': 1964}\n"
     ]
    }
   ],
   "source": [
    "thisdict={\n",
    "    \"brand\":\"BMW\",\n",
    "    \"model\":\"ROLLSE ROYSE\",\n",
    "    \"year\":1964\n",
    "}\n",
    "x=thisdict[\"model\"]\n",
    "print(thisdict)"
   ]
  },
  {
   "cell_type": "code",
   "execution_count": 15,
   "id": "a584da3b-ab39-4fe8-82be-9db31b77e234",
   "metadata": {},
   "outputs": [
    {
     "name": "stdout",
     "output_type": "stream",
     "text": [
      "ROLLS ROYSE\n"
     ]
    }
   ],
   "source": [
    "thisdict={\n",
    "    \"brand\":\"BMW\",\n",
    "    \"model\":\"ROLLS ROYSE\",\n",
    "    \"year\":1964\n",
    "}\n",
    "x=thisdict.get(\"model\")\n",
    "print(x)\n"
   ]
  },
  {
   "cell_type": "code",
   "execution_count": 17,
   "id": "48e5ea44-2274-4f80-b784-28405f257053",
   "metadata": {},
   "outputs": [
    {
     "name": "stdout",
     "output_type": "stream",
     "text": [
      "dict_keys(['brand', 'model', 'year'])\n"
     ]
    }
   ],
   "source": [
    "thisdict={\n",
    "    \"brand\":\"BMW\",\n",
    "    \"model\":\"ROLLS ROYSE\",\n",
    "    \"year\":1964\n",
    "}\n",
    "x=thisdict.keys()\n",
    "print(x)"
   ]
  },
  {
   "cell_type": "code",
   "execution_count": 19,
   "id": "0aaab698-de98-4280-bf40-5cf52a6b96ef",
   "metadata": {},
   "outputs": [
    {
     "name": "stdout",
     "output_type": "stream",
     "text": [
      "dict_keys(['brand', 'model', 'year'])\n",
      "dict_keys(['brand', 'model', 'year', 'color'])\n"
     ]
    }
   ],
   "source": [
    "car={\n",
    "    \"brand\":\"BMW\",\n",
    "    \"model\":\"ROLLS ROYSE\",\n",
    "    \"year\":1964\n",
    "}\n",
    "x=car.keys()\n",
    "print(x)\n",
    "car[\"color\"] = \"white\"\n",
    "print(x)"
   ]
  },
  {
   "cell_type": "code",
   "execution_count": 21,
   "id": "f24d700b-1b83-4495-a05b-dad19d18a870",
   "metadata": {},
   "outputs": [
    {
     "name": "stdout",
     "output_type": "stream",
     "text": [
      "dict_values(['BMW', 'ROLLS ROYCE', 1964])\n"
     ]
    }
   ],
   "source": [
    "thisdict={\n",
    "    \"brand\":\"BMW\",\n",
    "    \"model\":\"ROLLS ROYCE\",\n",
    "    \"year\":1964\n",
    "}\n",
    "x=thisdict.values()\n",
    "print(x)"
   ]
  },
  {
   "cell_type": "code",
   "execution_count": 23,
   "id": "e2b005a9-0ba8-40ab-9c8e-845c28af28cb",
   "metadata": {},
   "outputs": [
    {
     "name": "stdout",
     "output_type": "stream",
     "text": [
      "dict_values(['BMW', 'ROLLS ROYCE', 1964])\n",
      "dict_values(['BMW', 'ROLLS ROYCE', 2020])\n"
     ]
    }
   ],
   "source": [
    "car={\n",
    "    \"brand\":\"BMW\",\n",
    "    \"model\":\"ROLLS ROYCE\",\n",
    "    \"year\":1964\n",
    "}\n",
    "x=car.values()\n",
    "print(x)\n",
    "car[\"year\"]=2020\n",
    "print(x)"
   ]
  },
  {
   "cell_type": "code",
   "execution_count": 25,
   "id": "ab2bb86b-17a0-48d6-9607-72044456ad87",
   "metadata": {},
   "outputs": [
    {
     "name": "stdout",
     "output_type": "stream",
     "text": [
      "dict_values(['BMW', 'ROLLS ROYCE', 1964])\n",
      "dict_values(['BMW', 'ROLLS ROYCE', 1964, 'red'])\n"
     ]
    }
   ],
   "source": [
    "car={\n",
    "    \"brand\":\"BMW\",\n",
    "    \"model\":\"ROLLS ROYCE\",\n",
    "    \"year\":1964\n",
    "}\n",
    "x=car.values()\n",
    "print(x)\n",
    "car[\"color\"]=\"red\"\n",
    "print(x)"
   ]
  },
  {
   "cell_type": "code",
   "execution_count": 27,
   "id": "754fa501-0b29-4c00-9d49-9cbad002f33b",
   "metadata": {},
   "outputs": [
    {
     "name": "stdout",
     "output_type": "stream",
     "text": [
      "dict_items([('brand', 'BMW'), ('model', 'ROLLS ROYCE'), ('year', 1964)])\n",
      "dict_items([('brand', 'BMW'), ('model', 'ROLLS ROYCE'), ('year', 2020)])\n"
     ]
    }
   ],
   "source": [
    "car={\n",
    "    \"brand\":\"BMW\",\n",
    "    \"model\":\"ROLLS ROYCE\",\n",
    "    \"year\":1964\n",
    "}\n",
    "x=car.items()\n",
    "print(x)\n",
    "car[\"year\"]=2020\n",
    "print(x)"
   ]
  },
  {
   "cell_type": "code",
   "execution_count": 29,
   "id": "8ffae73c-0080-4a2f-8433-6dd1b2a9d1cd",
   "metadata": {},
   "outputs": [
    {
     "name": "stdout",
     "output_type": "stream",
     "text": [
      "dict_items([('brand', 'BMW'), ('model', 'ROLLS ROYCE'), ('year', 1964)])\n"
     ]
    }
   ],
   "source": [
    "thisdict={\n",
    "    \"brand\":\"BMW\",\n",
    "    \"model\":\"ROLLS ROYCE\",\n",
    "    \"year\":1964\n",
    "}\n",
    "x=thisdict.items()\n",
    "print(x)"
   ]
  },
  {
   "cell_type": "code",
   "execution_count": 31,
   "id": "5ee794ca-2327-4899-8172-a908ad8f7242",
   "metadata": {},
   "outputs": [
    {
     "name": "stdout",
     "output_type": "stream",
     "text": [
      "dict_items([('brand', 'BMW'), ('model', 'ROLLS ROYCE'), ('year', 1964)])\n",
      "dict_items([('brand', 'BMW'), ('model', 'ROLLS ROYCE'), ('year', 1964), ('color', 'red')])\n"
     ]
    }
   ],
   "source": [
    "car={\n",
    "    \"brand\":\"BMW\",\n",
    "    \"model\":\"ROLLS ROYCE\",\n",
    "    \"year\":1964\n",
    "}\n",
    "x=car.items()\n",
    "print(x)\n",
    "car[\"color\"]=\"red\"\n",
    "print(x)"
   ]
  },
  {
   "cell_type": "code",
   "execution_count": 33,
   "id": "afd92321-c350-4e61-a597-efcfe9cb6a56",
   "metadata": {},
   "outputs": [
    {
     "name": "stdout",
     "output_type": "stream",
     "text": [
      "Yes,'model' is one of the keys in the thisdict dictionary\n"
     ]
    }
   ],
   "source": [
    "thisdict={\n",
    "    \"brand\":\"BMW\",\n",
    "    \"model\":\"ROLLS ROYCE\",\n",
    "    \"year\":1964\n",
    "}\n",
    "if \"model\" in thisdict:\n",
    "    print(\"Yes,'model' is one of the keys in the thisdict dictionary\")"
   ]
  },
  {
   "cell_type": "code",
   "execution_count": 35,
   "id": "be3eb8fd-ceb4-456c-9ac6-5083e1d1fbf2",
   "metadata": {},
   "outputs": [
    {
     "name": "stdout",
     "output_type": "stream",
     "text": [
      "{'brand': 'BMW', 'model': 'ROLLS ROYCE', 'year': 2018}\n"
     ]
    }
   ],
   "source": [
    "thisdict={\n",
    "    \"brand\":\"BMW\",\n",
    "    \"model\":\"ROLLS ROYCE\",\n",
    "    \"year\":1964\n",
    "}\n",
    "thisdict[\"year\"]=2018\n",
    "print(thisdict)"
   ]
  },
  {
   "cell_type": "code",
   "execution_count": 37,
   "id": "38e92923-9a3a-44fe-ac08-3bb254485dc5",
   "metadata": {},
   "outputs": [
    {
     "name": "stdout",
     "output_type": "stream",
     "text": [
      "{'brand': 'BMW', 'model': 'ROLLS ROYCE', 'year': 1964, 'color': 'red'}\n"
     ]
    }
   ],
   "source": [
    "thisdict={\n",
    "    \"brand\":\"BMW\",\n",
    "    \"model\":\"ROLLS ROYCE\",\n",
    "    \"year\":1964\n",
    "}\n",
    "thisdict.update({\"color\":\"red\"})\n",
    "print(thisdict)"
   ]
  },
  {
   "cell_type": "code",
   "execution_count": 41,
   "id": "80961b5d-913d-4e7c-a6f9-65605bdbb9ec",
   "metadata": {},
   "outputs": [
    {
     "name": "stdout",
     "output_type": "stream",
     "text": [
      "{'brand': 'BMW', 'year': 1964}\n"
     ]
    }
   ],
   "source": [
    "thisdict={\n",
    "    \"brand\":\"BMW\",\n",
    "    \"model\":\"ROLLS ROYCE\",\n",
    "    \"year\":1964\n",
    "}\n",
    "thisdict.pop(\"model\")\n",
    "print(thisdict)"
   ]
  },
  {
   "cell_type": "code",
   "execution_count": 1,
   "id": "733295f5-def6-4660-9e0f-eb803140229a",
   "metadata": {},
   "outputs": [
    {
     "name": "stdout",
     "output_type": "stream",
     "text": [
      "{'brand': 'BMW', 'model': 'ROLLS ROYCE'}\n"
     ]
    }
   ],
   "source": [
    "thisdict={\n",
    "    \"brand\":\"BMW\",\n",
    "    \"model\":\"ROLLS ROYCE\",\n",
    "    \"year\":1964\n",
    "}\n",
    "thisdict.popitem()\n",
    "print(thisdict)"
   ]
  },
  {
   "cell_type": "code",
   "execution_count": 3,
   "id": "ad63b16c-4632-4add-9813-de362d0ec3e2",
   "metadata": {},
   "outputs": [
    {
     "name": "stdout",
     "output_type": "stream",
     "text": [
      "yes, 'model' is one of keys in the thisdict dictionary\n"
     ]
    }
   ],
   "source": [
    "thisdict = {\n",
    "    \"brand\": \"ford\",\n",
    "    \"model\": \"mustang\",\n",
    "    \"year\": 1964\n",
    "}\n",
    "if \"model\" in thisdict:\n",
    " print(\"yes, 'model' is one of keys in the thisdict dictionary\")"
   ]
  },
  {
   "cell_type": "code",
   "execution_count": null,
   "id": "4394547e-6dc8-41c7-b872-f97d72df90e7",
   "metadata": {},
   "outputs": [],
   "source": []
  }
 ],
 "metadata": {
  "kernelspec": {
   "display_name": "Python [conda env:base] *",
   "language": "python",
   "name": "conda-base-py"
  },
  "language_info": {
   "codemirror_mode": {
    "name": "ipython",
    "version": 3
   },
   "file_extension": ".py",
   "mimetype": "text/x-python",
   "name": "python",
   "nbconvert_exporter": "python",
   "pygments_lexer": "ipython3",
   "version": "3.12.7"
  }
 },
 "nbformat": 4,
 "nbformat_minor": 5
}
