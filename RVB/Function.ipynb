{
 "cells": [
  {
   "cell_type": "code",
   "execution_count": null,
   "id": "0cac9910-4db8-4589-8e10-3f77befe32e8",
   "metadata": {
    "id": "0cac9910-4db8-4589-8e10-3f77befe32e8"
   },
   "outputs": [],
   "source": [
    "def my_function():\n",
    "  print(\"Hello from a function\")"
   ]
  },
  {
   "cell_type": "code",
   "execution_count": null,
   "id": "f2e05270-4585-461b-af0c-f40183988c81",
   "metadata": {
    "id": "f2e05270-4585-461b-af0c-f40183988c81",
    "outputId": "96bb9d3e-58ff-4501-9789-a47caecaf3c5"
   },
   "outputs": [
    {
     "name": "stdout",
     "output_type": "stream",
     "text": [
      "Hello from a function\n"
     ]
    }
   ],
   "source": [
    "def my_function():\n",
    "  print(\"Hello from a function\")\n",
    "\n",
    "my_function()"
   ]
  },
  {
   "cell_type": "code",
   "execution_count": 3,
   "id": "564ce833-6d64-4bfe-a481-798341dec0eb",
   "metadata": {
    "id": "564ce833-6d64-4bfe-a481-798341dec0eb",
    "outputId": "bfa90a19-41e5-4d2e-9478-ac258d5faf6c"
   },
   "outputs": [
    {
     "ename": "SyntaxError",
     "evalue": "unterminated string literal (detected at line 5) (1555047185.py, line 5)",
     "output_type": "error",
     "traceback": [
      "\u001b[0;36m  Cell \u001b[0;32mIn[3], line 5\u001b[0;36m\u001b[0m\n\u001b[0;31m    my_function(\"Ir)\u001b[0m\n\u001b[0m                ^\u001b[0m\n\u001b[0;31mSyntaxError\u001b[0m\u001b[0;31m:\u001b[0m unterminated string literal (detected at line 5)\n"
     ]
    }
   ],
   "source": [
    "def my_function(fname):\n",
    "  print(  \"Engineer \" + fname)\n",
    "my_function(\"Mitchell\")\n",
    "my_function(\"Harsh\")\n",
    "my_function(\"Ir)"
   ]
  },
  {
   "cell_type": "code",
   "execution_count": 5,
   "id": "84c79eb4-dd02-49fc-8b9d-b3d63f2024f9",
   "metadata": {
    "id": "84c79eb4-dd02-49fc-8b9d-b3d63f2024f9",
    "outputId": "d0454cae-b7d2-47c3-a487-9de1252dea9f"
   },
   "outputs": [
    {
     "name": "stdout",
     "output_type": "stream",
     "text": [
      "sahil mali\n"
     ]
    }
   ],
   "source": [
    "def my_function(fname, lname):\n",
    "  print(fname + \" \" + lname)\n",
    "\n",
    "my_function(\"sahil\", \"mali\")"
   ]
  },
  {
   "cell_type": "code",
   "execution_count": 7,
   "id": "7705e360-5f1a-4399-8590-c4c1a68887e7",
   "metadata": {
    "id": "7705e360-5f1a-4399-8590-c4c1a68887e7",
    "outputId": "c73ff421-9ba9-473d-c8a1-c41d6c8625c4"
   },
   "outputs": [
    {
     "ename": "TypeError",
     "evalue": "my_function() missing 1 required positional argument: 'lname'",
     "output_type": "error",
     "traceback": [
      "\u001b[0;31m---------------------------------------------------------------------------\u001b[0m",
      "\u001b[0;31mTypeError\u001b[0m                                 Traceback (most recent call last)",
      "Cell \u001b[0;32mIn[7], line 4\u001b[0m\n\u001b[1;32m      1\u001b[0m \u001b[38;5;28;01mdef\u001b[39;00m \u001b[38;5;21mmy_function\u001b[39m(fname, lname):\n\u001b[1;32m      2\u001b[0m   \u001b[38;5;28mprint\u001b[39m(fname \u001b[38;5;241m+\u001b[39m \u001b[38;5;124m\"\u001b[39m\u001b[38;5;124m \u001b[39m\u001b[38;5;124m\"\u001b[39m \u001b[38;5;241m+\u001b[39m lname)\n\u001b[0;32m----> 4\u001b[0m my_function(\u001b[38;5;124m\"\u001b[39m\u001b[38;5;124msahil\u001b[39m\u001b[38;5;124m\"\u001b[39m)\n",
      "\u001b[0;31mTypeError\u001b[0m: my_function() missing 1 required positional argument: 'lname'"
     ]
    }
   ],
   "source": [
    "def my_function(fname, lname):\n",
    "  print(fname + \" \" + lname)\n",
    "\n",
    "my_function(\"sahil\")"
   ]
  },
  {
   "cell_type": "code",
   "execution_count": 9,
   "id": "8206ae2e-dc0e-4300-b12f-26228b65b75b",
   "metadata": {
    "id": "8206ae2e-dc0e-4300-b12f-26228b65b75b",
    "outputId": "9bde41a6-74da-4cdc-8a09-9347af426437"
   },
   "outputs": [
    {
     "ename": "SyntaxError",
     "evalue": "invalid syntax (1957821498.py, line 1)",
     "output_type": "error",
     "traceback": [
      "\u001b[0;36m  Cell \u001b[0;32mIn[9], line 1\u001b[0;36m\u001b[0m\n\u001b[0;31m    ef my_function(*kids):\u001b[0m\n\u001b[0m       ^\u001b[0m\n\u001b[0;31mSyntaxError\u001b[0m\u001b[0;31m:\u001b[0m invalid syntax\n"
     ]
    }
   ],
   "source": [
    "ef my_function(*kids):\n",
    "  print(\"The youngest child is \" + kids[2])\n",
    "\n",
    "my_function(\"rohit\", \"Akbar\", \"hardik\")"
   ]
  },
  {
   "cell_type": "code",
   "execution_count": 11,
   "id": "c61f217c-6e91-4ee3-9f83-ea70ae955380",
   "metadata": {
    "id": "c61f217c-6e91-4ee3-9f83-ea70ae955380",
    "outputId": "873d074a-8f6b-4adb-cb66-d328870e390c"
   },
   "outputs": [
    {
     "name": "stdout",
     "output_type": "stream",
     "text": [
      "The youngest child is Hari\n"
     ]
    }
   ],
   "source": [
    "def my_function(child3, child2, child1):\n",
    "  print(\"The youngest child is \" + child3)\n",
    "\n",
    "my_function(child1 = \"Ram\", child2 = \"Krishna\", child3 = \"Hari\")"
   ]
  },
  {
   "cell_type": "code",
   "execution_count": 13,
   "id": "057a473a-fd2a-4c32-b682-7445c5462388",
   "metadata": {
    "id": "057a473a-fd2a-4c32-b682-7445c5462388",
    "outputId": "30a70dc4-697a-4307-91cd-33d984f0aa74"
   },
   "outputs": [
    {
     "name": "stdout",
     "output_type": "stream",
     "text": [
      "His first name is sahil\n",
      "His last name is mali\n"
     ]
    }
   ],
   "source": [
    "def my_function(**kid):\n",
    "  print(\"His first name is \" + kid[\"fname\"])\n",
    "  print(\"His last name is \" + kid[\"lname\"])\n",
    "\n",
    "my_function(fname = \"sahil\", lname = \"mali\")"
   ]
  },
  {
   "cell_type": "code",
   "execution_count": 15,
   "id": "26f05563-5467-435f-8224-d92d91538ebd",
   "metadata": {
    "id": "26f05563-5467-435f-8224-d92d91538ebd",
    "outputId": "cd15ba2f-b046-41f7-9d9e-fc9cef898db7"
   },
   "outputs": [
    {
     "name": "stdout",
     "output_type": "stream",
     "text": [
      "I am from Sweden\n",
      "I am from India\n",
      "I am from Norway\n",
      "I am from Brazil\n"
     ]
    }
   ],
   "source": [
    "def my_function(country = \"Norway\"):\n",
    "  print(\"I am from \" + country)\n",
    "\n",
    "my_function(\"Sweden\")\n",
    "my_function(\"India\")\n",
    "my_function()\n",
    "my_function(\"Brazil\")"
   ]
  },
  {
   "cell_type": "code",
   "execution_count": 17,
   "id": "0590577c-a140-4041-8526-2a74d5a9ec92",
   "metadata": {
    "id": "0590577c-a140-4041-8526-2a74d5a9ec92",
    "outputId": "61024ca4-af77-43f2-a0dd-28f89c846f52"
   },
   "outputs": [
    {
     "name": "stdout",
     "output_type": "stream",
     "text": [
      "apple\n",
      "banana\n",
      "cherry\n"
     ]
    }
   ],
   "source": [
    "def my_function(food):\n",
    "  for x in food:\n",
    "    print(x)\n",
    "\n",
    "fruits = [\"apple\", \"banana\", \"cherry\"]\n",
    "\n",
    "my_function(fruits)"
   ]
  },
  {
   "cell_type": "code",
   "execution_count": 19,
   "id": "01cadb9d-aff6-4cd5-8a16-39e37c815660",
   "metadata": {
    "id": "01cadb9d-aff6-4cd5-8a16-39e37c815660",
    "outputId": "c856bae2-4a11-4afe-99a5-c45e13893370"
   },
   "outputs": [
    {
     "name": "stdout",
     "output_type": "stream",
     "text": [
      "15\n",
      "25\n",
      "45\n"
     ]
    }
   ],
   "source": [
    "def my_function(x):\n",
    "  return 5 * x\n",
    "\n",
    "print(my_function(3))\n",
    "print(my_function(5))\n",
    "print(my_function(9))"
   ]
  },
  {
   "cell_type": "code",
   "execution_count": 21,
   "id": "48a0d56e-5f34-4889-9fa6-b825ce6001eb",
   "metadata": {
    "id": "48a0d56e-5f34-4889-9fa6-b825ce6001eb"
   },
   "outputs": [],
   "source": [
    "def myfunction():\n",
    "  pass"
   ]
  },
  {
   "cell_type": "code",
   "execution_count": 23,
   "id": "dec31d89-420b-4327-8b35-e7a44294d055",
   "metadata": {
    "id": "dec31d89-420b-4327-8b35-e7a44294d055",
    "outputId": "b940f247-5774-4220-b905-27b35c6c0096"
   },
   "outputs": [
    {
     "name": "stdout",
     "output_type": "stream",
     "text": [
      "3\n"
     ]
    }
   ],
   "source": [
    "def my_function(x, /):\n",
    "  print(x)\n",
    "\n",
    "my_function(3)"
   ]
  },
  {
   "cell_type": "code",
   "execution_count": 25,
   "id": "398e40a3-afe2-4ba1-9345-7a23200d0dc0",
   "metadata": {
    "id": "398e40a3-afe2-4ba1-9345-7a23200d0dc0",
    "outputId": "74822d04-aa85-4ea4-891d-27b738cfa5c9"
   },
   "outputs": [
    {
     "name": "stdout",
     "output_type": "stream",
     "text": [
      "3\n"
     ]
    }
   ],
   "source": [
    "def my_function(x):\n",
    "  print(x)\n",
    "\n",
    "my_function(x = 3)"
   ]
  },
  {
   "cell_type": "code",
   "execution_count": 27,
   "id": "19bfd2f0-b649-4b04-821b-f8c4d55009b3",
   "metadata": {
    "id": "19bfd2f0-b649-4b04-821b-f8c4d55009b3",
    "outputId": "e930ad85-666d-4596-93cc-31ccf9d90d8f"
   },
   "outputs": [
    {
     "ename": "NameError",
     "evalue": "name 'x' is not defined",
     "output_type": "error",
     "traceback": [
      "\u001b[0;31m---------------------------------------------------------------------------\u001b[0m",
      "\u001b[0;31mNameError\u001b[0m                                 Traceback (most recent call last)",
      "Cell \u001b[0;32mIn[27], line 1\u001b[0m\n\u001b[0;32m----> 1\u001b[0m \u001b[38;5;28mprint\u001b[39m(x)\n\u001b[1;32m      3\u001b[0m my_function(x \u001b[38;5;241m=\u001b[39m \u001b[38;5;241m3\u001b[39m)\n",
      "\u001b[0;31mNameError\u001b[0m: name 'x' is not defined"
     ]
    }
   ],
   "source": [
    "  print(x)\n",
    "\n",
    "my_function(x = 3)\n"
   ]
  },
  {
   "cell_type": "code",
   "execution_count": 29,
   "id": "33895c0c-0564-4134-9d6e-4e538e447d6b",
   "metadata": {
    "id": "33895c0c-0564-4134-9d6e-4e538e447d6b",
    "outputId": "ef019ad2-d617-4ca0-b8fb-680bac10fc7f"
   },
   "outputs": [
    {
     "name": "stdout",
     "output_type": "stream",
     "text": [
      "3\n"
     ]
    }
   ],
   "source": [
    "def my_function(*, x):\n",
    "  print(x)\n",
    "\n",
    "my_function(x = 3)"
   ]
  },
  {
   "cell_type": "code",
   "execution_count": 31,
   "id": "747f4063-bfbd-4267-840b-e02022ba6f10",
   "metadata": {
    "id": "747f4063-bfbd-4267-840b-e02022ba6f10",
    "outputId": "90c88752-097a-4f68-f057-dedbf9cca07c"
   },
   "outputs": [
    {
     "name": "stdout",
     "output_type": "stream",
     "text": [
      "3\n"
     ]
    }
   ],
   "source": [
    "def my_function(x):\n",
    "  print(x)\n",
    "\n",
    "my_function(3)"
   ]
  },
  {
   "cell_type": "code",
   "execution_count": 33,
   "id": "3cb3a628-3835-4367-9498-d4badfc0d86d",
   "metadata": {
    "id": "3cb3a628-3835-4367-9498-d4badfc0d86d",
    "outputId": "514996c2-1b8e-4e5d-b71e-c88257cc9b3d"
   },
   "outputs": [
    {
     "ename": "TypeError",
     "evalue": "my_function() takes 0 positional arguments but 1 was given",
     "output_type": "error",
     "traceback": [
      "\u001b[0;31m---------------------------------------------------------------------------\u001b[0m",
      "\u001b[0;31mTypeError\u001b[0m                                 Traceback (most recent call last)",
      "Cell \u001b[0;32mIn[33], line 4\u001b[0m\n\u001b[1;32m      1\u001b[0m \u001b[38;5;28;01mdef\u001b[39;00m \u001b[38;5;21mmy_function\u001b[39m(\u001b[38;5;241m*\u001b[39m, x):\n\u001b[1;32m      2\u001b[0m   \u001b[38;5;28mprint\u001b[39m(x)\n\u001b[0;32m----> 4\u001b[0m my_function(\u001b[38;5;241m3\u001b[39m)\n",
      "\u001b[0;31mTypeError\u001b[0m: my_function() takes 0 positional arguments but 1 was given"
     ]
    }
   ],
   "source": [
    "def my_function(*, x):\n",
    "  print(x)\n",
    "\n",
    "my_function(3)"
   ]
  },
  {
   "cell_type": "code",
   "execution_count": 35,
   "id": "fd34abea-23ec-499f-8884-9fb559ac496b",
   "metadata": {
    "id": "fd34abea-23ec-499f-8884-9fb559ac496b",
    "outputId": "2a32012b-eece-48b5-9ab2-7e3a34c3a12e"
   },
   "outputs": [
    {
     "name": "stdout",
     "output_type": "stream",
     "text": [
      "26\n"
     ]
    }
   ],
   "source": [
    "def my_function(a, b, /, *, c, d):\n",
    "  print(a + b + c + d)\n",
    "\n",
    "my_function(5, 6, c = 7, d = 8)"
   ]
  },
  {
   "cell_type": "code",
   "execution_count": 37,
   "id": "d152885e-60f2-4221-9fd9-c1d258db3b6f",
   "metadata": {
    "id": "d152885e-60f2-4221-9fd9-c1d258db3b6f",
    "outputId": "350eaf98-971a-4452-e8b3-59aa9f7c1f08"
   },
   "outputs": [
    {
     "name": "stdout",
     "output_type": "stream",
     "text": [
      "Recursion Example Results:\n",
      "1\n",
      "3\n",
      "6\n",
      "10\n",
      "15\n",
      "21\n"
     ]
    },
    {
     "data": {
      "text/plain": [
       "21"
      ]
     },
     "execution_count": 37,
     "metadata": {},
     "output_type": "execute_result"
    }
   ],
   "source": [
    "def tri_recursion(k):\n",
    "  if(k > 0):\n",
    "    result = k + tri_recursion(k - 1)\n",
    "    print(result)\n",
    "  else:\n",
    "    result = 0\n",
    "  return result\n",
    "\n",
    "print(\"Recursion Example Results:\")\n",
    "tri_recursion(6)"
   ]
  },
  {
   "cell_type": "code",
   "execution_count": 39,
   "id": "7be5e076-5456-422f-8623-92743829e847",
   "metadata": {
    "id": "7be5e076-5456-422f-8623-92743829e847",
    "outputId": "00d344f0-d752-4216-9457-993de8657a46"
   },
   "outputs": [
    {
     "name": "stdout",
     "output_type": "stream",
     "text": [
      "15\n"
     ]
    }
   ],
   "source": [
    "x = lambda a : a + 10\n",
    "print(x(5))"
   ]
  },
  {
   "cell_type": "code",
   "execution_count": 56,
   "id": "f1b7c32b-2a3c-44b3-8f38-959a3adedeb9",
   "metadata": {
    "id": "f1b7c32b-2a3c-44b3-8f38-959a3adedeb9",
    "outputId": "99ced1e7-6eda-465d-fefd-9af2b36565a5"
   },
   "outputs": [
    {
     "ename": "NameError",
     "evalue": "name 'Basic' is not defined",
     "output_type": "error",
     "traceback": [
      "\u001b[0;31m---------------------------------------------------------------------------\u001b[0m",
      "\u001b[0;31mNameError\u001b[0m                                 Traceback (most recent call last)",
      "Cell \u001b[0;32mIn[56], line 2\u001b[0m\n\u001b[1;32m      1\u001b[0m x \u001b[38;5;241m=\u001b[39m \u001b[38;5;28;01mlambda\u001b[39;00m a, b : a \u001b[38;5;241m*\u001b[39m Basic\n\u001b[0;32m----> 2\u001b[0m \u001b[38;5;28mprint\u001b[39m(x(\u001b[38;5;241m5\u001b[39m, \u001b[38;5;241m6\u001b[39m))\n",
      "Cell \u001b[0;32mIn[56], line 1\u001b[0m, in \u001b[0;36m<lambda>\u001b[0;34m(a, b)\u001b[0m\n\u001b[0;32m----> 1\u001b[0m x \u001b[38;5;241m=\u001b[39m \u001b[38;5;28;01mlambda\u001b[39;00m a, b : a \u001b[38;5;241m*\u001b[39m Basic\n\u001b[1;32m      2\u001b[0m \u001b[38;5;28mprint\u001b[39m(x(\u001b[38;5;241m5\u001b[39m, \u001b[38;5;241m6\u001b[39m))\n",
      "\u001b[0;31mNameError\u001b[0m: name 'Basic' is not defined"
     ]
    }
   ],
   "source": [
    "x = lambda a, b : a * bBasic\n",
    "print(x(5, 6))"
   ]
  },
  {
   "cell_type": "code",
   "execution_count": 43,
   "id": "18b1b7d8-e694-40d1-a8dd-c04fff5bfda1",
   "metadata": {
    "id": "18b1b7d8-e694-40d1-a8dd-c04fff5bfda1",
    "outputId": "62aa81e7-f616-4706-fa40-137c35b9cc25"
   },
   "outputs": [
    {
     "name": "stdout",
     "output_type": "stream",
     "text": [
      "13\n"
     ]
    }
   ],
   "source": [
    "x = lambda a, b, c : a + b + c\n",
    "print(x(5, 6, 2))"
   ]
  },
  {
   "cell_type": "code",
   "execution_count": 45,
   "id": "2047ba21-af20-4461-ac6d-b08fb3724956",
   "metadata": {
    "id": "2047ba21-af20-4461-ac6d-b08fb3724956",
    "outputId": "6ab3936a-ea7b-4aba-9d3d-8a08df1c2c68"
   },
   "outputs": [
    {
     "name": "stdout",
     "output_type": "stream",
     "text": [
      "22\n"
     ]
    }
   ],
   "source": [
    "def myfunc(n):\n",
    "  return lambda a : a * n\n",
    "mydoubler = myfunc(2)\n",
    "\n",
    "print(mydoubler(11))"
   ]
  },
  {
   "cell_type": "code",
   "execution_count": 47,
   "id": "cccc5a28-75a9-4eb1-8352-bd22a05ced6a",
   "metadata": {
    "id": "cccc5a28-75a9-4eb1-8352-bd22a05ced6a",
    "outputId": "26ee1704-e08d-453c-b8b7-d882b5aedb10"
   },
   "outputs": [
    {
     "name": "stdout",
     "output_type": "stream",
     "text": [
      "33\n"
     ]
    }
   ],
   "source": [
    "def myfunc(n):\n",
    "  return lambda a : a * n\n",
    "\n",
    "mytripler = myfunc(3)\n",
    "\n",
    "print(mytripler(11))"
   ]
  },
  {
   "cell_type": "code",
   "execution_count": 49,
   "id": "e3a115bf-ffc7-4f34-b4ee-e9dd6d415fe6",
   "metadata": {
    "id": "e3a115bf-ffc7-4f34-b4ee-e9dd6d415fe6",
    "outputId": "462295db-ffe9-4369-f15f-8f1be5e9b371"
   },
   "outputs": [
    {
     "name": "stdout",
     "output_type": "stream",
     "text": [
      "22\n",
      "33\n"
     ]
    }
   ],
   "source": [
    "def myfunc(n):\n",
    "  return lambda a : a * n\n",
    "\n",
    "mydoubler = myfunc(2)\n",
    "mytripler = myfunc(3)\n",
    "\n",
    "print(mydoubler(11))\n",
    "print(mytripler(11))"
   ]
  }
 ],
 "metadata": {
  "colab": {
   "provenance": []
  },
  "kernelspec": {
   "display_name": "Python [conda env:base] *",
   "language": "python",
   "name": "conda-base-py"
  },
  "language_info": {
   "codemirror_mode": {
    "name": "ipython",
    "version": 3
   },
   "file_extension": ".py",
   "mimetype": "text/x-python",
   "name": "python",
   "nbconvert_exporter": "python",
   "pygments_lexer": "ipython3",
   "version": "3.12.7"
  }
 },
 "nbformat": 4,
 "nbformat_minor": 5
}
